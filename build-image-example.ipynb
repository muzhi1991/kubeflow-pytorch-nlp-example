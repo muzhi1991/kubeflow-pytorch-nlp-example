{
 "cells": [
  {
   "cell_type": "code",
   "execution_count": 3,
   "id": "00921f24-6285-4a24-8f32-e966f56345bd",
   "metadata": {},
   "outputs": [],
   "source": [
    "# 安装 pip install msrestazure\n",
    "# 安装 pip install kubeflow-fairing #装的好慢。。安装了一堆烂七八糟的包。。\n",
    "\n",
    "from kubeflow import fairing   \n",
    "from kubeflow.fairing.kubernetes.utils import mounting_pvc\n",
    "import logging\n",
    "from kubeflow.fairing import constants\n",
    "from kubeflow.fairing.preprocessors import base as base_preprocessor\n",
    "DOCKER_REGISTRY = 'k3d-myregistry.localhost:5000' # 注意nsloopup  k3d-myregistry.localhost 192.168.128.2 端口5000是k3d配置的在host上。。\n",
    "constants.constants.KANIKO_IMAGE = \"aiotceo/kaniko-executor:v1.6.0\"\n",
    "\n",
    "output_map =  {\n",
    "    \"/home/jovyan/project/pytorch-bert/kaniko/dockerfile\": \"Dockerfile\",\n",
    "    \"/home/jovyan/project/pytorch-bert/kaniko\": \"kaniko\"\n",
    "}\n",
    "\n",
    "preprocessor = base_preprocessor.BasePreProcessor(\n",
    "    command=[\"python\"], # The base class will set this.\n",
    "    input_files=[],\n",
    "    path_prefix=\"/app\", # irrelevant since we aren't preprocessing any files\n",
    "    output_map=output_map)\n",
    "\n",
    "preprocessor.preprocess()\n",
    "\n",
    "\n",
    "\n",
    "from kubeflow.fairing.builders import cluster\n",
    "\n",
    "\n",
    "from kubeflow.fairing.cloud.k8s import MinioUploader\n",
    "from kubeflow.fairing.builders.cluster.minio_context import MinioContextSource\n",
    "\n",
    "minio_endpoint = \"http://minio-service.kubeflow:9000/\"\n",
    "minio_username = \"minio\"\n",
    "minio_key = \"minio123\"\n",
    "minio_region = \"us-east-1\"\n",
    "# mc config host add minio http://minio-service.kubeflow:9000 minio minio123\n",
    "\n",
    "minio_uploader = MinioUploader(endpoint_url=minio_endpoint, minio_secret=minio_username, minio_secret_key=minio_key, region_name=minio_region)\n",
    "minio_context_source = MinioContextSource(endpoint_url=minio_endpoint, minio_secret=minio_username, minio_secret_key=minio_key, region_name=minio_region)\n",
    "\n",
    "cluster_builder = cluster.cluster.ClusterBuilder(registry=DOCKER_REGISTRY,\n",
    "                                                 base_image=\"\", # base_image is set in the Dockerfile\n",
    "                                                 preprocessor=preprocessor,\n",
    "                                                 image_name=\"mnist\",\n",
    "                                                 dockerfile_path=\"Dockerfile\",\n",
    "                                                 context_source=minio_context_source)"
   ]
  },
  {
   "cell_type": "code",
   "execution_count": 4,
   "id": "8639b73f-d9da-4683-aff8-4457139c2bbd",
   "metadata": {},
   "outputs": [
    {
     "name": "stderr",
     "output_type": "stream",
     "text": [
      "[I 220927 00:01:32 cluster:46] Building image using cluster builder.\n",
      "[I 220927 00:01:32 base:107] Creating docker context: /tmp/fairing_context_tsh3r_tq\n",
      "[W 220927 00:01:32 base:94] Dockerfile already exists in Fairing context, skipping...\n",
      "[W 220927 00:01:34 manager:298] Waiting for fairing-builder-5mwcg-8928l to start...\n",
      "[W 220927 00:01:34 manager:298] Waiting for fairing-builder-5mwcg-8928l to start...\n",
      "[W 220927 00:01:34 manager:298] Waiting for fairing-builder-5mwcg-8928l to start...\n",
      "[I 220927 00:01:45 manager:303] Pod started running True\n"
     ]
    },
    {
     "name": "stdout",
     "output_type": "stream",
     "text": [
      "\u001b[36mINFO\u001b[0m[0000] Retrieving image manifest ubuntu\n",
      "\u001b[36mINFO\u001b[0m[0000] Retrieving image ubuntu from registry index.docker.io\n",
      "\u001b[36mINFO\u001b[0m[0004] Built cross stage deps: map[]\n",
      "\u001b[36mINFO\u001b[0m[0004] Retrieving image manifest ubuntu\n",
      "\u001b[36mINFO\u001b[0m[0004] Returning cached image manifest\n",
      "\u001b[36mINFO\u001b[0m[0004] Executing 0 build triggers\n",
      "\u001b[36mINFO\u001b[0m[0004] Skipping unpacking as no commands require it.\n",
      "\u001b[36mINFO\u001b[0m[0004] Taking snapshot of full filesystem...\n",
      "\u001b[36mINFO\u001b[0m[0024] ENTRYPOINT [\"/bin/bash\", \"-c\", \"echo hello\"]\n",
      "\u001b[36mINFO\u001b[0m[0024] Taking snapshot of full filesystem...\n",
      "\u001b[36mINFO\u001b[0m[0044] No files were changed, appending empty layer to config. No layer added to image.\n",
      "\u001b[36mINFO\u001b[0m[0044] Pushing image to k3d-myregistry.localhost:5000/mnist:875730ED\n",
      "\u001b[36mINFO\u001b[0m[0044] Pushed image to 1 destinations\n"
     ]
    }
   ],
   "source": [
    "# 修改文件/opt/conda/lib/python3.8/site-packages/kubeflow/fairing/builders/cluster/minio_context.py \n",
    "# 增加env， http_proxy https_proxy no_proxy\n",
    "# 特别注意no_proxy需要排除minio-service.kubeflow\n",
    "#\n",
    "# client.V1EnvVar(name='http_proxy',\n",
    "#                                         value='http://172.16.153.24:7890'),\n",
    "# client.V1EnvVar(name='https_proxy',\n",
    "#                                         value='http://172.16.153.24:7890'),\n",
    "# client.V1EnvVar(name='no_proxy',\n",
    "#                                         value='localhost,127.0.0.1,0.0.0.0,10.0.0.0/8,cattle-system.svc,192.168.10.0/24,.svc,.cluster.local,example.com,localhost,.localhost,127.0.0.0/8,192.168.0.1/16,0.0.0.0,172.0.0.1/8,kubeflow-us-east-1,minio-service.kubeflow'),\n",
    "# client.V1EnvVar(name='NO_PROXY',\n",
    "#                                         value='localhost,127.0.0.1,0.0.0.0,10.0.0.0/8,cattle-system.svc,192.168.10.0/24,.svc,.cluster.local,example.com,localhost,.localhost,127.0.0.0/8,192.168.0.1/16,0.0.0.0,172.0.0.1/8,kubeflow-us-east-1,minio-service.kubeflow'),\n",
    "\n",
    "cluster_builder.build()"
   ]
  },
  {
   "cell_type": "code",
   "execution_count": 14,
   "id": "3033acf6-7dc6-4141-ac0d-c74121cc3f4c",
   "metadata": {},
   "outputs": [
    {
     "data": {
      "text/plain": [
       "<module 'kubeflow.fairing.constants.constants' from '/opt/conda/lib/python3.8/site-packages/kubeflow/fairing/constants/constants.py'>"
      ]
     },
     "execution_count": 14,
     "metadata": {},
     "output_type": "execute_result"
    }
   ],
   "source": [
    "##https://vectorcloud.io/blog/2021/08/01/%E4%BD%BF%E7%94%A8kaniko%E6%9E%84%E5%BB%BAdocker%E9%95%9C%E5%83%8F/\n",
    "\n",
    "constants.constants"
   ]
  },
  {
   "cell_type": "code",
   "execution_count": null,
   "id": "4d572daf-2165-4adc-813e-08ffc915166b",
   "metadata": {},
   "outputs": [],
   "source": []
  },
  {
   "cell_type": "code",
   "execution_count": 1,
   "id": "4b5fd0d6-559d-4bd6-ada2-fb85f26016e2",
   "metadata": {},
   "outputs": [],
   "source": [
    "from utils.build_image import build_image"
   ]
  },
  {
   "cell_type": "code",
   "execution_count": 3,
   "id": "543bd7e3-efeb-4348-a98e-a09a41cee7f7",
   "metadata": {},
   "outputs": [
    {
     "name": "stderr",
     "output_type": "stream",
     "text": [
      "[I 220927 00:33:50 cluster:46] Building image using cluster builder.\n",
      "[I 220927 00:33:50 base:107] Creating docker context: /tmp/fairing_context_aa7oxa5q\n",
      "[W 220927 00:33:50 base:94] Dockerfile already exists in Fairing context, skipping...\n"
     ]
    },
    {
     "name": "stdout",
     "output_type": "stream",
     "text": [
      "/home/jovyan/project/pytorch-bert/kaniko/pod.yaml --> pod.yaml\n",
      "/home/jovyan/project/pytorch-bert/kaniko/Dockerfile --> Dockerfile\n",
      "/home/jovyan/project/pytorch-bert/kaniko/volume.yaml --> volume.yaml\n",
      "/home/jovyan/project/pytorch-bert/kaniko/volume-claim.yaml --> volume-claim.yaml\n",
      "/home/jovyan/project/pytorch-bert/kaniko/dockerfile --> dockerfile\n",
      "/home/jovyan/project/pytorch-bert/kaniko/src --> src\n",
      "/home/jovyan/project/pytorch-bert/kaniko/src/test.py --> src/test.py\n"
     ]
    },
    {
     "name": "stderr",
     "output_type": "stream",
     "text": [
      "[W 220927 00:33:53 manager:298] Waiting for fairing-builder-xqxpz-xnd8b to start...\n",
      "[W 220927 00:33:53 manager:298] Waiting for fairing-builder-xqxpz-xnd8b to start...\n",
      "[W 220927 00:33:53 manager:298] Waiting for fairing-builder-xqxpz-xnd8b to start...\n",
      "[I 220927 00:34:03 manager:303] Pod started running True\n"
     ]
    },
    {
     "name": "stdout",
     "output_type": "stream",
     "text": [
      "\u001b[36mINFO\u001b[0m[0000] Retrieving image manifest ubuntu\n",
      "\u001b[36mINFO\u001b[0m[0000] Retrieving image ubuntu from registry index.docker.io\n",
      "\u001b[36mINFO\u001b[0m[0004] Built cross stage deps: map[]\n",
      "\u001b[36mINFO\u001b[0m[0004] Retrieving image manifest ubuntu\n",
      "\u001b[36mINFO\u001b[0m[0004] Returning cached image manifest\n",
      "\u001b[36mINFO\u001b[0m[0004] Executing 0 build triggers\n",
      "\u001b[36mINFO\u001b[0m[0004] Skipping unpacking as no commands require it.\n",
      "\u001b[36mINFO\u001b[0m[0004] Taking snapshot of full filesystem...\n",
      "\u001b[36mINFO\u001b[0m[0025] ENTRYPOINT [\"/bin/bash\", \"-c\", \"echo hello\"]\n",
      "\u001b[36mINFO\u001b[0m[0025] Taking snapshot of full filesystem...\n",
      "\u001b[36mINFO\u001b[0m[0045] No files were changed, appending empty layer to config. No layer added to image.\n",
      "\u001b[36mINFO\u001b[0m[0045] Pushing image to k3d-myregistry.localhost:5000/test-image:4BDEF49B\n",
      "\u001b[36mINFO\u001b[0m[0057] Pushed image to 1 destinations\n"
     ]
    }
   ],
   "source": [
    "build_image(\"/home/jovyan/project/pytorch-bert/kaniko\",\"test-image\")"
   ]
  },
  {
   "cell_type": "code",
   "execution_count": null,
   "id": "3391c2d6-45eb-4907-ac09-70273f58470c",
   "metadata": {},
   "outputs": [],
   "source": []
  }
 ],
 "metadata": {
  "kernelspec": {
   "display_name": "Python 3 (ipykernel)",
   "language": "python",
   "name": "python3"
  },
  "language_info": {
   "codemirror_mode": {
    "name": "ipython",
    "version": 3
   },
   "file_extension": ".py",
   "mimetype": "text/x-python",
   "name": "python",
   "nbconvert_exporter": "python",
   "pygments_lexer": "ipython3",
   "version": "3.8.10"
  }
 },
 "nbformat": 4,
 "nbformat_minor": 5
}
