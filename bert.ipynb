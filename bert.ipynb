{
 "cells": [
  {
   "cell_type": "code",
   "execution_count": null,
   "metadata": {},
   "outputs": [],
   "source": [
    "# Copyright (c) Facebook, Inc. and its affiliates.\n",
    "# Licensed under the Apache License, Version 2.0 (the \"License\");\n",
    "# you may not use this file except in compliance with the License.\n",
    "# You may obtain a copy of the License at\n",
    "#\n",
    "#    http://www.apache.org/licenses/LICENSE-2.0\n",
    "#\n",
    "# Unless required by applicable law or agreed to in writing, software\n",
    "# distributed under the License is distributed on an \"AS IS\" BASIS,\n",
    "# WITHOUT WARRANTIES OR CONDITIONS OF ANY KIND, either express or implied.\n",
    "# See the License for the specific language governing permissions and\n",
    "# limitations under the License."
   ]
  },
  {
   "cell_type": "markdown",
   "metadata": {},
   "source": [
    "# Bert Pipeline : PyTorch BERT News Classfication\n",
    "\n",
    "This notebook shows PyTorch BERT end-to-end news classification example using Kubeflow Pipelines.\n",
    "\n",
    "\n",
    "An example notebook that demonstrates how to:\n",
    "\n",
    "* Get different tasks needed for the pipeline\n",
    "* Create a Kubeflow pipeline\n",
    "* Include Pytorch KFP components to preprocess, train, visualize and deploy the model in the pipeline\n",
    "* Submit a job for execution\n",
    "* Query(prediction and explain) the final deployed model\n",
    "* Interpretation of the model using the Captum Insights\n"
   ]
  },
  {
   "cell_type": "code",
   "execution_count": 1,
   "metadata": {
    "tags": []
   },
   "outputs": [
    {
     "name": "stdout",
     "output_type": "stream",
     "text": [
      "{'http': 'http://172.16.153.24:7890', 'https': 'http://172.16.153.24:7890'}\n",
      "/var/run/secrets/kubeflow/pipelines/token\n"
     ]
    }
   ],
   "source": [
    "# ! pip uninstall -y kfp\n",
    "# ! pip install --no-cache-dir  captum\n",
    "import os\n",
    "\n",
    "proxies={'http': 'http://172.16.153.24:7890',\n",
    "        'https': 'http://172.16.153.24:7890'}\n",
    "print(proxies)\n",
    "\n",
    "TOKEN=os.environ['KF_PIPELINES_SA_TOKEN_PATH']\n",
    "print(os.environ['KF_PIPELINES_SA_TOKEN_PATH'])\n",
    "\n",
    "os.environ['http_proxy']=proxies['http']\n",
    "os.environ['https_proxy']=proxies['https']\n"
   ]
  },
  {
   "cell_type": "code",
   "execution_count": 2,
   "metadata": {},
   "outputs": [
    {
     "data": {
      "text/plain": [
       "'1.8.13'"
      ]
     },
     "execution_count": 2,
     "metadata": {},
     "output_type": "execute_result"
    }
   ],
   "source": [
    "import kfp\n",
    "import json\n",
    "import os\n",
    "from kfp.onprem import use_k8s_secret\n",
    "from kfp import components\n",
    "from kfp.components import load_component_from_file, load_component_from_url\n",
    "from kfp import dsl\n",
    "from kfp import compiler\n",
    "\n",
    "kfp.__version__"
   ]
  },
  {
   "cell_type": "markdown",
   "metadata": {},
   "source": [
    "# Enter your gateway and the cookie\n",
    "[Use this extension on chrome to get token]( https://chrome.google.com/webstore/detail/editthiscookie/fngmhnnpilhplaeedifhccceomclgfbg?hl=en)\n",
    "\n",
    "![image.png](./image.png)"
   ]
  },
  {
   "cell_type": "markdown",
   "metadata": {},
   "source": [
    "## Update values for the ingress gateway and auth session"
   ]
  },
  {
   "cell_type": "code",
   "execution_count": 3,
   "metadata": {},
   "outputs": [],
   "source": [
    "INGRESS_GATEWAY='http://istio-ingressgateway.istio-system.svc.cluster.local'\n",
    "# AUTH=\"<enter your token here>\"\n",
    "NAMESPACE=\"muzhi1991\"\n",
    "# COOKIE=\"authservice_session=\"+AUTH\n",
    "EXPERIMENT=\"Default\"\n",
    "\n",
    "REGISTRY=\"k3d-myregistry.localhost:5000\"\n",
    "\n",
    "from kubernetes.client.models import V1EnvVar\n",
    "http_proxy_var = V1EnvVar(name='http_proxy', value=proxies['http'])\n",
    "https_proxy_var = V1EnvVar(name='https_proxy', value=proxies['https'])"
   ]
  },
  {
   "cell_type": "markdown",
   "metadata": {},
   "source": [
    "## Set Log bucket and Tensorboard Image"
   ]
  },
  {
   "cell_type": "code",
   "execution_count": 4,
   "metadata": {},
   "outputs": [
    {
     "name": "stdout",
     "output_type": "stream",
     "text": [
      "k3d-myregistry.localhost:5000/muzhi1991/tboard:DBE73959\n"
     ]
    }
   ],
   "source": [
    "MINIO_ENDPOINT=\"http://minio-service.kubeflow:9000\"\n",
    "LOG_BUCKET=\"mlpipeline\"\n",
    "# k3d-myregistry.localhost:5000/muzhi1991/tboard:DBE73959\n",
    "TENSORBOARD_IMAGE=os.path.join(REGISTRY,\"muzhi1991/tboard:DBE73959\")\n",
    "print(TENSORBOARD_IMAGE)"
   ]
  },
  {
   "cell_type": "code",
   "execution_count": 5,
   "metadata": {},
   "outputs": [],
   "source": [
    "client = kfp.Client()"
   ]
  },
  {
   "cell_type": "code",
   "execution_count": 6,
   "metadata": {},
   "outputs": [
    {
     "data": {
      "text/html": [
       "<a href=\"/pipeline/#/experiments/details/9381fa9e-7b57-4045-8272-2fbda9821fb7\" target=\"_blank\" >Experiment details</a>."
      ],
      "text/plain": [
       "<IPython.core.display.HTML object>"
      ]
     },
     "metadata": {},
     "output_type": "display_data"
    },
    {
     "data": {
      "text/plain": [
       "{'created_at': datetime.datetime(2022, 9, 25, 8, 39, 7, tzinfo=tzutc()),\n",
       " 'description': None,\n",
       " 'id': '9381fa9e-7b57-4045-8272-2fbda9821fb7',\n",
       " 'name': 'Default',\n",
       " 'resource_references': [{'key': {'id': 'muzhi1991', 'type': 'NAMESPACE'},\n",
       "                          'name': None,\n",
       "                          'relationship': 'OWNER'}],\n",
       " 'storage_state': 'STORAGESTATE_AVAILABLE'}"
      ]
     },
     "execution_count": 6,
     "metadata": {},
     "output_type": "execute_result"
    }
   ],
   "source": [
    "client.create_experiment(EXPERIMENT)\n",
    "experiments = client.list_experiments(namespace=NAMESPACE)\n",
    "my_experiment = experiments.experiments[-1]\n",
    "my_experiment"
   ]
  },
  {
   "cell_type": "code",
   "execution_count": 34,
   "metadata": {},
   "outputs": [
    {
     "data": {
      "text/plain": [
       "[{'created_at': datetime.datetime(2022, 9, 17, 8, 41, 13, tzinfo=tzutc()),\n",
       "  'description': None,\n",
       "  'id': '0681ebb1-f908-417b-a4ee-0cc24153f573',\n",
       "  'name': 'test-data-process',\n",
       "  'resource_references': [{'key': {'id': 'muzhi1991', 'type': 'NAMESPACE'},\n",
       "                           'name': None,\n",
       "                           'relationship': 'OWNER'}],\n",
       "  'storage_state': 'STORAGESTATE_AVAILABLE'},\n",
       " {'created_at': datetime.datetime(2022, 9, 23, 15, 23, 15, tzinfo=tzutc()),\n",
       "  'description': None,\n",
       "  'id': '8035f383-4968-4553-86ed-00ca56cd94bc',\n",
       "  'name': 'xgboost_train_test',\n",
       "  'resource_references': [{'key': {'id': 'muzhi1991', 'type': 'NAMESPACE'},\n",
       "                           'name': None,\n",
       "                           'relationship': 'OWNER'}],\n",
       "  'storage_state': 'STORAGESTATE_AVAILABLE'},\n",
       " {'created_at': datetime.datetime(2022, 9, 25, 8, 39, 7, tzinfo=tzutc()),\n",
       "  'description': None,\n",
       "  'id': '9381fa9e-7b57-4045-8272-2fbda9821fb7',\n",
       "  'name': 'Default',\n",
       "  'resource_references': [{'key': {'id': 'muzhi1991', 'type': 'NAMESPACE'},\n",
       "                           'name': None,\n",
       "                           'relationship': 'OWNER'}],\n",
       "  'storage_state': 'STORAGESTATE_AVAILABLE'}]"
      ]
     },
     "execution_count": 34,
     "metadata": {},
     "output_type": "execute_result"
    }
   ],
   "source": [
    "experiments.experiments"
   ]
  },
  {
   "cell_type": "markdown",
   "metadata": {},
   "source": [
    "## Set Inference parameters"
   ]
  },
  {
   "cell_type": "code",
   "execution_count": 7,
   "metadata": {},
   "outputs": [],
   "source": [
    "DEPLOY_NAME=\"bertserve\"\n",
    "MODEL_NAME=\"bert\""
   ]
  },
  {
   "cell_type": "code",
   "execution_count": 8,
   "metadata": {},
   "outputs": [
    {
     "name": "stdout",
     "output_type": "stream",
     "text": [
      "/home/jovyan/project/pytorch-bert/utils/../pytorch_kfp_components/templates\n",
      "Processing copy_component.yaml\n",
      "Processing train_component.yaml\n",
      "Processing ax_generate_trials_component.yaml\n",
      "Processing prediction_component.yaml\n",
      "Processing ax_train_component.yaml\n",
      "Processing minio_component.yaml\n",
      "Processing ax_complete_trials_component.yaml\n",
      "Processing preprocess_component.yaml\n",
      "Processing tensorboard_component.yaml\n"
     ]
    }
   ],
   "source": [
    "# ! python utils/generate_templates.py bert/template_mapping.json"
   ]
  },
  {
   "cell_type": "code",
   "execution_count": 9,
   "metadata": {},
   "outputs": [],
   "source": [
    "prepare_tensorboard_op = load_component_from_file(\"yaml/tensorboard_component.yaml\")\n",
    "prep_op = components.load_component_from_file(\n",
    "    \"yaml/preprocess_component.yaml\"\n",
    ")\n",
    "train_op = components.load_component_from_file(\n",
    "    \"yaml/train_component.yaml\"\n",
    ")\n",
    "deploy_op = load_component_from_file(\n",
    "    \"./components/kserve/component.yaml\"\n",
    ")\n",
    "minio_op = components.load_component_from_file(\n",
    "    \"yaml/minio_component.yaml\"\n",
    ")"
   ]
  },
  {
   "cell_type": "code",
   "execution_count": 10,
   "metadata": {},
   "outputs": [
    {
     "data": {
      "text/plain": [
       "'{{workflow.uid}}'"
      ]
     },
     "execution_count": 10,
     "metadata": {},
     "output_type": "execute_result"
    }
   ],
   "source": [
    "dsl.RUN_ID_PLACEHOLDER"
   ]
  },
  {
   "cell_type": "markdown",
   "metadata": {},
   "source": [
    "## Define pipeline"
   ]
  },
  {
   "cell_type": "code",
   "execution_count": null,
   "metadata": {},
   "outputs": [],
   "source": []
  },
  {
   "cell_type": "code",
   "execution_count": 29,
   "metadata": {},
   "outputs": [],
   "source": [
    "@dsl.pipeline(name=\"Training pipeline\", description=\"Sample training job test\")\n",
    "def pytorch_bert( # pylint: disable=too-many-arguments\n",
    "    minio_endpoint=MINIO_ENDPOINT,\n",
    "    log_bucket=LOG_BUCKET,\n",
    "    log_dir=f\"tensorboard/logs/{dsl.RUN_ID_PLACEHOLDER}\",\n",
    "    mar_path=f\"mar/{dsl.RUN_ID_PLACEHOLDER}/model-store\",\n",
    "    config_prop_path=f\"mar/{dsl.RUN_ID_PLACEHOLDER}/config\",\n",
    "    model_uri=f\"s3://mlpipeline/mar/{dsl.RUN_ID_PLACEHOLDER}\",\n",
    "    tf_image=TENSORBOARD_IMAGE,\n",
    "    deploy=DEPLOY_NAME,\n",
    "    namespace=NAMESPACE,\n",
    "    confusion_matrix_log_dir=f\"confusion_matrix/{dsl.RUN_ID_PLACEHOLDER}/\",\n",
    "    num_samples=1000,\n",
    "    max_epochs=1\n",
    "):\n",
    "    \"\"\"Thid method defines the pipeline tasks and operations\"\"\"\n",
    "    ### 准备tfboard，这里使用了自定义的tf镜像，里面有pytorch的profile插件（构建过程 common/tensorboard）\n",
    "    ### 在notebook中构建镜像使用kaniko工具 写了个脚本，python utils/build_image.py 目录（包括Dockerfile） image名字\n",
    "    ### 下面还配置了minio的key（注意secret有没有mlpipeline-minio-artifact，kf默认安装了，之所以是AWS——xxx，是因为用了boto3这个库他是亚马逊的。。兼容minio要求这些环境变量\n",
    "    ### 看到方法是，在kubeflow的pipeline界面的visual里面点击启动tensorboard\n",
    "    ### tf界面是要下面『训练完』，上传到minio的目录下，才能看（不能实时看）\n",
    "    prepare_tb_task = prepare_tensorboard_op(\n",
    "        log_dir_uri=f\"s3://{log_bucket}/{log_dir}\",\n",
    "        image=tf_image,\n",
    "        pod_template_spec=json.dumps({\n",
    "            \"spec\": {\n",
    "                \"containers\": [{\n",
    "                    \"env\": [\n",
    "                        {\n",
    "                            \"name\": \"AWS_ACCESS_KEY_ID\",\n",
    "                            \"valueFrom\": {\n",
    "                                \"secretKeyRef\": {\n",
    "                                    \"name\": \"mlpipeline-minio-artifact\",\n",
    "                                    \"key\": \"accesskey\",\n",
    "                                }\n",
    "                            },\n",
    "                        },\n",
    "                        {\n",
    "                            \"name\": \"AWS_SECRET_ACCESS_KEY\",\n",
    "                            \"valueFrom\": {\n",
    "                                \"secretKeyRef\": {\n",
    "                                    \"name\": \"mlpipeline-minio-artifact\",\n",
    "                                    \"key\": \"secretkey\",\n",
    "                                }\n",
    "                            },\n",
    "                        },\n",
    "                        {\n",
    "                            \"name\": \"AWS_REGION\",\n",
    "                            \"value\": \"minio\"\n",
    "                        },\n",
    "                        {\n",
    "                            \"name\": \"S3_ENDPOINT\",\n",
    "                            \"value\": f\"{minio_endpoint}\",\n",
    "                        },\n",
    "                        {\n",
    "                            \"name\": \"S3_USE_HTTPS\",\n",
    "                            \"value\": \"0\"\n",
    "                        },\n",
    "                        {\n",
    "                            \"name\": \"S3_VERIFY_SSL\",\n",
    "                            \"value\": \"0\"\n",
    "                        },\n",
    "                    ]\n",
    "                }]\n",
    "            }\n",
    "        }),\n",
    "    ).set_display_name(\"Visualization\")\n",
    "    ## 注意下面的都需要gpu机器。。虽然代码本质上这些东西不需要，但是pytorch的基础镜像没有gpu启动不来\n",
    "    ## 之所以这个代码需要pytorch是因为用了pytorch_kfp_components这个库（他依赖了，这个库里还有用来生成模型文件的工具类，所以要。。）\n",
    "    ## pytorch_kfp_components这个库其实这里就用了visualization输出一下可视化数据\n",
    "    ## 总之，设计的不好，其实完全不需要gpu的\n",
    "    ## 还有要下载数据所以需要代理\n",
    "    prep_task = (\n",
    "        prep_op().after(prepare_tb_task\n",
    "                       ).set_gpu_limit(1).add_env_variable(http_proxy_var).add_env_variable(https_proxy_var).set_display_name(\"Preprocess & Transform\")\n",
    "    )\n",
    "    \n",
    "    ### 训练部分：\n",
    "    ### 这里用了自己的镜像训练，代码里面是pytorch_kfp_components+pytorch lightning+transformers\n",
    "    ### 这个pytorch_kfp_components库他把pytorch lightning套了一层定义了自己Trainer，没啥作用。。\n",
    "    ### 这里还有个坑，pytorch_kfp_components这个库pip里面的太旧了有bug，要用源码的自己下载安装\n",
    "    ### 下面指定的参数是pytorch lightning需要的ptl_args，使用gpu，accelerator=gpu，devices=1设备一个\n",
    "    ### 训练用了transformers。。需要联网下载预训练模型\n",
    "    confusion_matrix_url = f\"minio://{log_bucket}/{confusion_matrix_log_dir}\"\n",
    "    script_args = f\"model_name=bert.pth,\" \\\n",
    "                  f\"num_samples={num_samples},\" \\\n",
    "                  f\"confusion_matrix_url={confusion_matrix_url}\"\n",
    "    # For GPU , set device count and strategy type ,strategy=ddp\n",
    "    ptl_args = f\"max_epochs={max_epochs},accelerator=gpu,profiler=pytorch,devices=1\"\n",
    "    train_task = (\n",
    "        train_op(\n",
    "            input_data=prep_task.outputs[\"output_data\"],\n",
    "            tensorboard_root=f\"s3://{log_bucket}/{log_dir}\",\n",
    "            script_args=script_args,\n",
    "            ptl_arguments=ptl_args\n",
    "        ).after(prep_task).set_gpu_limit(1).add_env_variable(http_proxy_var).add_env_variable(https_proxy_var).set_display_name(\"Training\")\n",
    "        # For allocating resources, uncomment below lines\n",
    "        # .set_memory_request('600M')\n",
    "        # .set_memory_limit('1200M')\n",
    "        # .set_cpu_request('700m')\n",
    "        # .set_cpu_limit('1400m')\n",
    "        # For GPU uncomment below line and set GPU limit and node selector\n",
    "        # .set_gpu_limit(1).add_node_selector_constraint('cloud.google.com/gke-accelerator','nvidia-tesla-p4')\n",
    "    )\n",
    "    \n",
    "    ### 上传训练结果，\n",
    "    ### 需要gpu。。谁让他用了基础镜像是pytorch呢。。。\n",
    "    (\n",
    "        minio_op(\n",
    "            bucket_name=\"mlpipeline\",\n",
    "            folder_name=log_dir,\n",
    "            input_path=train_task.outputs[\"tensorboard_root\"],\n",
    "            filename=\"\",\n",
    "        ).set_gpu_limit(1).after(train_task).set_display_name(\"Tensorboard Events Pusher\")\n",
    "    )\n",
    "    minio_mar_upload = (\n",
    "        minio_op(\n",
    "            bucket_name=\"mlpipeline\",\n",
    "            folder_name=mar_path,\n",
    "            input_path=train_task.outputs[\"checkpoint_dir\"],\n",
    "            filename=\"bert_test.mar\",\n",
    "        ).set_gpu_limit(1).after(train_task).set_display_name(\"Mar Pusher\")\n",
    "    )\n",
    "    (\n",
    "        minio_op(\n",
    "            bucket_name=\"mlpipeline\",\n",
    "            folder_name=config_prop_path,\n",
    "            input_path=train_task.outputs[\"checkpoint_dir\"],\n",
    "            filename=\"config.properties\",\n",
    "        ).set_gpu_limit(1).after(train_task).set_display_name(\"Conifg Pusher\")\n",
    "    )\n",
    "\n",
    "    model_uri = str(model_uri)\n",
    "    ### 注意点：\n",
    "    ### 1. 需要sa账号访问minio，storageUri需要从minios下载mar文件。参考 common/minio/kserve-minio-account.yaml\n",
    "    ### 2. sidecar.istio.io/inject: \"false\" ，否则访问会出现403 rabc权限错误错误，这个是https://github.com/kserve/kserve/issues/1076\n",
    "    ### 3. 加上代理，因为torchserver内部有requirements.txt需要下载python安装包\n",
    "    ### 4. 需要手动进入容器下载bert-base-uncased模型，用BertModel.from_pretrained(\"bert-base-uncased\")，否则第一次请求的时候会下载，但是会请求超时导致下载不了。。。\n",
    "    ### 本质上是这个torch serve handler实现的有问题。。其实没必要下载原始的bert模型，直接加载我们自己的就行。\n",
    "    ### \n",
    "    # pylint: disable=unused-variable\n",
    "    isvc_yaml = \"\"\"\n",
    "    apiVersion: \"serving.kserve.io/v1beta1\"\n",
    "    kind: \"InferenceService\"\n",
    "    metadata:\n",
    "      name: {}\n",
    "      namespace: {}\n",
    "      annotations:\n",
    "        sidecar.istio.io/inject: \"false\"\n",
    "    spec:\n",
    "      predictor:\n",
    "        serviceAccountName: sa\n",
    "        pytorch:\n",
    "          protocolVersion: v2\n",
    "          storageUri: {}\n",
    "          env:\n",
    "          - name: http_proxy\n",
    "            value: http://172.16.153.24:7890\n",
    "          - name: https_proxy\n",
    "            value: http://172.16.153.24:7890\n",
    "          resources:\n",
    "            requests: \n",
    "              cpu: 4\n",
    "              memory: 8Gi\n",
    "            limits:\n",
    "              cpu: 4\n",
    "              memory: 8Gi\n",
    "    \"\"\".format(deploy, namespace, model_uri)\n",
    "    \n",
    "    ## gpu没测试\n",
    "    # For GPU inference use below yaml with gpu count and accelerator \n",
    "    gpu_count = \"1\"\n",
    "    accelerator = \"nvidia-tesla-p4\"\n",
    "    isvc_gpu_yaml = \"\"\"\n",
    "    apiVersion: \"serving.kserve.io/v1beta1\"\n",
    "    kind: \"InferenceService\"\n",
    "    metadata:\n",
    "      name: {}\n",
    "      namespace: {}\n",
    "      annotations:\n",
    "        sidecar.istio.io/inject: \"false\"\n",
    "    spec:\n",
    "      predictor:\n",
    "        serviceAccountName: sa\n",
    "        pytorch:\n",
    "          protocolVersion: v2\n",
    "          storageUri: {}\n",
    "          env:\n",
    "          - name: http_proxy\n",
    "            value: http://172.16.153.24:7890\n",
    "          - name: https_proxy\n",
    "            value: http://172.16.153.24:7890\n",
    "          resources:\n",
    "            requests: \n",
    "              cpu: 4\n",
    "              memory: 8Gi\n",
    "            limits:\n",
    "              cpu: 4\n",
    "              memory: 8Gi\n",
    "              nvidia.com/gpu: {}\n",
    "          nodeSelector:\n",
    "            cloud.google.com/gke-accelerator: {}\n",
    "\"\"\".format(deploy, namespace, model_uri, gpu_count, accelerator)\n",
    "    # Update inferenceservice_yaml for GPU inference\n",
    "    deploy_task = (\n",
    "        deploy_op(action=\"apply\", inferenceservice_yaml=isvc_yaml\n",
    "                 ).after(minio_mar_upload).set_display_name(\"Deployer\")\n",
    "    )\n",
    "\n",
    "    dsl.get_pipeline_conf().add_op_transformer(\n",
    "        use_k8s_secret(\n",
    "            secret_name=\"mlpipeline-minio-artifact\",\n",
    "            k8s_secret_key_to_env={\n",
    "                \"secretkey\": \"MINIO_SECRET_KEY\",\n",
    "                \"accesskey\": \"MINIO_ACCESS_KEY\",\n",
    "            },\n",
    "        )\n",
    "    )"
   ]
  },
  {
   "cell_type": "code",
   "execution_count": 12,
   "metadata": {},
   "outputs": [
    {
     "name": "stderr",
     "output_type": "stream",
     "text": [
      "/opt/conda/lib/python3.8/site-packages/kfp/components/_data_passing.py:227: UserWarning: Missing type name was inferred as \"Integer\" based on the value \"1000\".\n",
      "  warnings.warn(\n",
      "/opt/conda/lib/python3.8/site-packages/kfp/components/_data_passing.py:227: UserWarning: Missing type name was inferred as \"Integer\" based on the value \"1\".\n",
      "  warnings.warn(\n"
     ]
    }
   ],
   "source": [
    "# Compile pipeline\n",
    "compiler.Compiler().compile(pytorch_bert, 'pytorch.tar.gz', type_check=True)"
   ]
  },
  {
   "cell_type": "code",
   "execution_count": 13,
   "metadata": {},
   "outputs": [
    {
     "data": {
      "text/html": [
       "<a href=\"/pipeline/#/runs/details/eee4b928-39ab-4755-8a86-94b887fa8503\" target=\"_blank\" >Run details</a>."
      ],
      "text/plain": [
       "<IPython.core.display.HTML object>"
      ]
     },
     "metadata": {},
     "output_type": "display_data"
    }
   ],
   "source": [
    "# Execute pipeline\n",
    "run = client.run_pipeline(my_experiment.id, 'pytorch-bert', 'pytorch.tar.gz')"
   ]
  },
  {
   "cell_type": "markdown",
   "metadata": {},
   "source": [
    "## Wait for inference service below to go to `READY True` state."
   ]
  },
  {
   "cell_type": "code",
   "execution_count": 16,
   "metadata": {
    "scrolled": true
   },
   "outputs": [
    {
     "name": "stdout",
     "output_type": "stream",
     "text": [
      "NAME           URL                                         READY   PREV   LATEST   PREVROLLEDOUTREVISION   LATESTREADYREVISION                    AGE\n",
      "sklearn-iris   http://sklearn-iris.muzhi1991.example.com   True           100                              sklearn-iris-predictor-default-00001   8d\n",
      "bertserve      http://bertserve.muzhi1991.example.com      True           100                              bertserve-predictor-default-00001      75m\n"
     ]
    }
   ],
   "source": [
    "os.environ['http_proxy']=''\n",
    "os.environ['https_proxy']=''\n",
    "!kubectl get isvc $DEPLOY\n",
    "os.environ['http_proxy']=proxies['http']\n",
    "os.environ['https_proxy']=proxies['https']"
   ]
  },
  {
   "cell_type": "markdown",
   "metadata": {},
   "source": [
    "# Get Inferenceservice name"
   ]
  },
  {
   "cell_type": "code",
   "execution_count": 14,
   "metadata": {},
   "outputs": [
    {
     "data": {
      "text/plain": [
       "'Unable to connect to the server: context deadline exceeded'"
      ]
     },
     "execution_count": 14,
     "metadata": {},
     "output_type": "execute_result"
    }
   ],
   "source": [
    "INFERENCE_SERVICE_LIST = ! kubectl get isvc {DEPLOY_NAME} -n {NAMESPACE} -o json | python3 -c \"import sys, json; print(json.load(sys.stdin)['status']['url'])\"| tr -d '\"' | cut -d \"/\" -f 3\n",
    "INFERENCE_SERVICE_NAME = INFERENCE_SERVICE_LIST[0]\n",
    "INFERENCE_SERVICE_NAME"
   ]
  },
  {
   "cell_type": "markdown",
   "metadata": {},
   "source": [
    "# Prediction Request"
   ]
  },
  {
   "cell_type": "code",
   "execution_count": 17,
   "metadata": {},
   "outputs": [
    {
     "name": "stdout",
     "output_type": "stream",
     "text": [
      "{\n",
      "  \"id\": \"d3b15cad-50a2-4eaf-80ce-8b0a428bd298\",\n",
      "  \"inputs\": [{\n",
      "    \"name\": \"4b7c7d4a-51e4-43c8-af61-04639f6ef4bc\",\n",
      "    \"shape\": -1,\n",
      "    \"datatype\": \"BYTES\",\n",
      "    \"data\": \"Bloomberg has reported on the economy\"\n",
      "  }\n",
      "  ]\n",
      "}"
     ]
    }
   ],
   "source": [
    "! cat ./bert/sample.txt"
   ]
  },
  {
   "cell_type": "code",
   "execution_count": 30,
   "metadata": {},
   "outputs": [
    {
     "name": "stdout",
     "output_type": "stream",
     "text": [
      "http://istio-ingressgateway.istio-system.svc.cluster.local/v2/models/bert/infer\n",
      "Host: bertserve.muzhi1991.example.com\n",
      "Cookie: authservice_session=MTY2NDM3ODc0N3xOd3dBTkRNME1saEhOa1pPV0VRMVZrVlBSRUZhU1VZM1JWSkJRVkZOUWs5QlJVSTJSbE5MTlVoRFFWQTNNalpOVjA1QlZ6WkxTVkU9fGLpp2jV9jmPaxSd9BTi3FOvBGzYXq98DbyAD-0cLjUL\n",
      "  % Total    % Received % Xferd  Average Speed   Time    Time     Time  Current\n",
      "                                 Dload  Upload   Total   Spent    Left  Speed\n",
      "  0     0    0     0    0     0      0      0 --:--:-- --:--:-- --:--:--     0*   Trying 10.43.45.42:80...\n",
      "* TCP_NODELAY set\n",
      "* Connected to istio-ingressgateway.istio-system.svc.cluster.local (10.43.45.42) port 80 (#0)\n",
      "> POST /v2/models/bert/infer HTTP/1.1\n",
      "> Host: bertserve.muzhi1991.example.com\n",
      "> User-Agent: curl/7.68.0\n",
      "> Accept: */*\n",
      "> Cookie: authservice_session=MTY2NDM3ODc0N3xOd3dBTkRNME1saEhOa1pPV0VRMVZrVlBSRUZhU1VZM1JWSkJRVkZOUWs5QlJVSTJSbE5MTlVoRFFWQTNNalpOVjA1QlZ6WkxTVkU9fGLpp2jV9jmPaxSd9BTi3FOvBGzYXq98DbyAD-0cLjUL\n",
      "> Content-Length: 211\n",
      "> Content-Type: application/x-www-form-urlencoded\n",
      "> \n",
      "} [211 bytes data]\n",
      "* upload completely sent off: 211 out of 211 bytes\n",
      "* Mark bundle as not supporting multiuse\n",
      "< HTTP/1.1 200 OK\n",
      "< content-length: 189\n",
      "< content-type: application/json; charset=UTF-8\n",
      "< date: Thu, 29 Sep 2022 08:49:17 GMT\n",
      "< server: envoy\n",
      "< x-envoy-upstream-service-time: 1159\n",
      "< \n",
      "{ [189 bytes data]\n",
      "100   400  100   189  100   211    160    179  0:00:01  0:00:01 --:--:--   339\n",
      "* Connection #0 to host istio-ingressgateway.istio-system.svc.cluster.local left intact\n"
     ]
    }
   ],
   "source": [
    "os.environ['http_proxy']=''\n",
    "os.environ['https_proxy']=''\n",
    "\n",
    "AUTH='MTY2NDM3ODc0N3xOd3dBTkRNME1saEhOa1pPV0VRMVZrVlBSRUZhU1VZM1JWSkJRVkZOUWs5QlJVSTJSbE5MTlVoRFFWQTNNalpOVjA1QlZ6WkxTVkU9fGLpp2jV9jmPaxSd9BTi3FOvBGzYXq98DbyAD-0cLjUL'\n",
    "COOKIE=\"authservice_session=\"+AUTH\n",
    "INGRESS_GATEWAY='http://istio-ingressgateway.istio-system.svc.cluster.local'\n",
    "!echo \"$INGRESS_GATEWAY/v2/models/$MODEL_NAME/infer\"\n",
    "!echo \"Host: $INFERENCE_SERVICE_NAME\"\n",
    "!echo \"Cookie: $COOKIE\"\n",
    "!curl -v -H \"Host: $INFERENCE_SERVICE_NAME\" -H \"Cookie: $COOKIE\" \"$INGRESS_GATEWAY/v2/models/$MODEL_NAME/infer\" -d @./bert/sample.txt > bert_prediction_output.json\n",
    "\n",
    "os.environ['http_proxy']=proxies['http']\n",
    "os.environ['https_proxy']=proxies['https']"
   ]
  },
  {
   "cell_type": "code",
   "execution_count": 31,
   "metadata": {},
   "outputs": [
    {
     "name": "stdout",
     "output_type": "stream",
     "text": [
      "{\"id\": \"d3b15cad-50a2-4eaf-80ce-8b0a428bd298\", \"model_name\": \"bert_test\", \"model_version\": \"1\", \"outputs\": [{\"name\": \"predict\", \"shape\": [], \"datatype\": \"BYTES\", \"data\": [\"\\\"Business\\\"\"]}]}"
     ]
    }
   ],
   "source": [
    "! cat bert_prediction_output.json"
   ]
  },
  {
   "cell_type": "markdown",
   "metadata": {},
   "source": [
    "# Explanation Request"
   ]
  },
  {
   "cell_type": "code",
   "execution_count": 34,
   "metadata": {
    "scrolled": true
   },
   "outputs": [
    {
     "name": "stdout",
     "output_type": "stream",
     "text": [
      "  % Total    % Received % Xferd  Average Speed   Time    Time     Time  Current\n",
      "                                 Dload  Upload   Total   Spent    Left  Speed\n",
      "  0     0    0     0    0     0      0      0 --:--:-- --:--:-- --:--:--     0*   Trying 10.43.45.42:80...\n",
      "* TCP_NODELAY set\n",
      "* Connected to istio-ingressgateway.istio-system.svc.cluster.local (10.43.45.42) port 80 (#0)\n",
      "> POST /v2/models/bert/explain HTTP/1.1\n",
      "> Host: bertserve.muzhi1991.example.com\n",
      "> User-Agent: curl/7.68.0\n",
      "> Accept: */*\n",
      "> Cookie: authservice_session=MTY2NDM3ODc0N3xOd3dBTkRNME1saEhOa1pPV0VRMVZrVlBSRUZhU1VZM1JWSkJRVkZOUWs5QlJVSTJSbE5MTlVoRFFWQTNNalpOVjA1QlZ6WkxTVkU9fGLpp2jV9jmPaxSd9BTi3FOvBGzYXq98DbyAD-0cLjUL\n",
      "> Content-Length: 211\n",
      "> Content-Type: application/x-www-form-urlencoded\n",
      "> \n",
      "} [211 bytes data]\n",
      "* upload completely sent off: 211 out of 211 bytes\n",
      "100   211    0     0  100   211      0     22  0:00:09  0:00:09 --:--:--     0* Mark bundle as not supporting multiuse\n",
      "< HTTP/1.1 200 OK\n",
      "< content-length: 421\n",
      "< content-type: application/json; charset=UTF-8\n",
      "< date: Thu, 29 Sep 2022 08:50:53 GMT\n",
      "< server: envoy\n",
      "< x-envoy-upstream-service-time: 9798\n",
      "< \n",
      "{ [421 bytes data]\n",
      "100   632  100   421  100   211     42     21  0:00:10  0:00:09  0:00:01    91\n",
      "* Connection #0 to host istio-ingressgateway.istio-system.svc.cluster.local left intact\n"
     ]
    }
   ],
   "source": [
    "os.environ['http_proxy']=''\n",
    "os.environ['https_proxy']=''\n",
    "!curl -v -H \"Host: $INFERENCE_SERVICE_NAME\" -H \"Cookie: $COOKIE\" \"$INGRESS_GATEWAY/v2/models/$MODEL_NAME/explain\" -d @./bert/sample.txt  > bert_explaination_output.json\n",
    "os.environ['http_proxy']=proxies['http']\n",
    "os.environ['https_proxy']=proxies['https']"
   ]
  },
  {
   "cell_type": "code",
   "execution_count": 35,
   "metadata": {},
   "outputs": [
    {
     "name": "stdout",
     "output_type": "stream",
     "text": [
      "{\"id\": \"d3b15cad-50a2-4eaf-80ce-8b0a428bd298\", \"model_name\": \"bert_test\", \"model_version\": \"1\", \"outputs\": [{\"name\": \"explain\", \"shape\": [], \"datatype\": \"BYTES\", \"data\": [{\"words\": [\"bloomberg\", \"has\", \"reported\", \"on\", \"the\", \"economy\"], \"importances\": [-0.3494510843097899, 0.10290922115798615, -0.0038743719593886034, -0.3523651655766479, -0.33892890561924205, 0.7926188290352265], \"delta\": -0.0065188932579783865}]}]}"
     ]
    }
   ],
   "source": [
    "! cat bert_explaination_output.json"
   ]
  },
  {
   "cell_type": "code",
   "execution_count": 36,
   "metadata": {
    "scrolled": true,
    "tags": []
   },
   "outputs": [
    {
     "data": {
      "text/plain": [
       "{'id': 'd3b15cad-50a2-4eaf-80ce-8b0a428bd298',\n",
       " 'model_name': 'bert_test',\n",
       " 'model_version': '1',\n",
       " 'outputs': [{'name': 'explain',\n",
       "   'shape': [],\n",
       "   'datatype': 'BYTES',\n",
       "   'data': [{'words': ['bloomberg', 'has', 'reported', 'on', 'the', 'economy'],\n",
       "     'importances': [-0.3494510843097899,\n",
       "      0.10290922115798615,\n",
       "      -0.0038743719593886034,\n",
       "      -0.3523651655766479,\n",
       "      -0.33892890561924205,\n",
       "      0.7926188290352265],\n",
       "     'delta': -0.0065188932579783865}]}]}"
      ]
     },
     "execution_count": 36,
     "metadata": {},
     "output_type": "execute_result"
    }
   ],
   "source": [
    "explanations_json = json.loads(open(\"./bert_explaination_output.json\", \"r\").read())\n",
    "explanations_json"
   ]
  },
  {
   "cell_type": "code",
   "execution_count": 37,
   "metadata": {
    "tags": []
   },
   "outputs": [],
   "source": [
    "prediction_json = json.loads(open(\"./bert_prediction_output.json\", \"r\").read())"
   ]
  },
  {
   "cell_type": "code",
   "execution_count": 39,
   "metadata": {
    "tags": []
   },
   "outputs": [],
   "source": [
    "import torch\n",
    "attributions = explanations_json[\"outputs\"][0][\"data\"][0]['importances']\n",
    "tokens = explanations_json[\"outputs\"][0][\"data\"][0]['words']\n",
    "delta = explanations_json[\"outputs\"][0][\"data\"][0]['delta']\n",
    "\n",
    "attributions = torch.tensor(attributions)\n",
    "pred_prob = 0.75\n",
    "pred_class = str(prediction_json[\"outputs\"][0][\"data\"][0]).strip('\"\"')\n",
    "true_class = \"Business\"\n",
    "attr_class =\"world\""
   ]
  },
  {
   "cell_type": "markdown",
   "metadata": {},
   "source": [
    "# Visualization of Predictions"
   ]
  },
  {
   "cell_type": "code",
   "execution_count": 41,
   "metadata": {
    "tags": []
   },
   "outputs": [],
   "source": [
    "from captum.attr import visualization\n",
    "vis_data_records =[]\n",
    "vis_data_records.append(visualization.VisualizationDataRecord(\n",
    "                            attributions,\n",
    "                            pred_prob,\n",
    "                            pred_class,\n",
    "                            true_class,\n",
    "                            attr_class,\n",
    "                            attributions.sum(),       \n",
    "                            tokens,\n",
    "                            delta))"
   ]
  },
  {
   "cell_type": "code",
   "execution_count": 42,
   "metadata": {},
   "outputs": [
    {
     "data": {
      "text/html": [
       "<table width: 100%><div style=\"border-top: 1px solid; margin-top: 5px;             padding-top: 5px; display: inline-block\"><b>Legend: </b><span style=\"display: inline-block; width: 10px; height: 10px;                 border: 1px solid; background-color:                 hsl(0, 75%, 60%)\"></span> Negative  <span style=\"display: inline-block; width: 10px; height: 10px;                 border: 1px solid; background-color:                 hsl(0, 75%, 100%)\"></span> Neutral  <span style=\"display: inline-block; width: 10px; height: 10px;                 border: 1px solid; background-color:                 hsl(120, 75%, 50%)\"></span> Positive  </div><tr><th>True Label</th><th>Predicted Label</th><th>Attribution Label</th><th>Attribution Score</th><th>Word Importance</th><tr><td><text style=\"padding-right:2em\"><b>Business</b></text></td><td><text style=\"padding-right:2em\"><b>Business (0.75)</b></text></td><td><text style=\"padding-right:2em\"><b>world</b></text></td><td><text style=\"padding-right:2em\"><b>-0.15</b></text></td><td><mark style=\"background-color: hsl(0, 75%, 87%); opacity:1.0;                     line-height:1.75\"><font color=\"black\"> bloomberg                    </font></mark><mark style=\"background-color: hsl(120, 75%, 95%); opacity:1.0;                     line-height:1.75\"><font color=\"black\"> has                    </font></mark><mark style=\"background-color: hsl(0, 75%, 100%); opacity:1.0;                     line-height:1.75\"><font color=\"black\"> reported                    </font></mark><mark style=\"background-color: hsl(0, 75%, 86%); opacity:1.0;                     line-height:1.75\"><font color=\"black\"> on                    </font></mark><mark style=\"background-color: hsl(0, 75%, 87%); opacity:1.0;                     line-height:1.75\"><font color=\"black\"> the                    </font></mark><mark style=\"background-color: hsl(120, 75%, 61%); opacity:1.0;                     line-height:1.75\"><font color=\"black\"> economy                    </font></mark></td><tr></table>"
      ],
      "text/plain": [
       "<IPython.core.display.HTML object>"
      ]
     },
     "metadata": {},
     "output_type": "display_data"
    }
   ],
   "source": [
    "vis = visualization.visualize_text(vis_data_records)"
   ]
  },
  {
   "cell_type": "markdown",
   "metadata": {
    "jp-MarkdownHeadingCollapsed": true,
    "tags": []
   },
   "source": [
    "### visualization appreas as below\n",
    "![viz1.png](./viz1.png)"
   ]
  },
  {
   "cell_type": "markdown",
   "metadata": {},
   "source": [
    "## Cleanup Script"
   ]
  },
  {
   "cell_type": "code",
   "execution_count": null,
   "metadata": {
    "scrolled": true
   },
   "outputs": [],
   "source": [
    "! kubectl delete --all isvc -n $NAMESPACE"
   ]
  },
  {
   "cell_type": "code",
   "execution_count": null,
   "metadata": {},
   "outputs": [],
   "source": [
    "! kubectl delete pod --field-selector=status.phase==Succeeded -n $NAMESPACE"
   ]
  },
  {
   "cell_type": "code",
   "execution_count": null,
   "metadata": {},
   "outputs": [],
   "source": []
  }
 ],
 "metadata": {
  "kernelspec": {
   "display_name": "Python 3 (ipykernel)",
   "language": "python",
   "name": "python3"
  },
  "language_info": {
   "codemirror_mode": {
    "name": "ipython",
    "version": 3
   },
   "file_extension": ".py",
   "mimetype": "text/x-python",
   "name": "python",
   "nbconvert_exporter": "python",
   "pygments_lexer": "ipython3",
   "version": "3.8.10"
  }
 },
 "nbformat": 4,
 "nbformat_minor": 4
}
